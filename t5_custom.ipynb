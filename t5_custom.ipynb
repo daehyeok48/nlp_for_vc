{
 "cells": [
  {
   "cell_type": "code",
   "execution_count": 1,
   "metadata": {},
   "outputs": [
    {
     "name": "stderr",
     "output_type": "stream",
     "text": [
      "/opt/homebrew/Caskroom/miniconda/base/envs/vcnlp/lib/python3.10/site-packages/tqdm/auto.py:21: TqdmWarning: IProgress not found. Please update jupyter and ipywidgets. See https://ipywidgets.readthedocs.io/en/stable/user_install.html\n",
      "  from .autonotebook import tqdm as notebook_tqdm\n"
     ]
    }
   ],
   "source": [
    "from transformers import T5Tokenizer, T5ForConditionalGeneration, Trainer, TrainingArguments\n",
    "from datasets import load_dataset, DatasetDict, Dataset"
   ]
  },
  {
   "cell_type": "code",
   "execution_count": null,
   "metadata": {},
   "outputs": [],
   "source": [
    "# 1. 데이터 준비하기\n",
    "def prepare_dataset(file_path):\n",
    "    \"\"\"\n",
    "    file_path: 데이터를 포함한 CSV 파일 경로\n",
    "    파일은 'input'과 'output' 열을 포함해야 합니다.\n",
    "    \"\"\"\n",
    "    import pandas as pd\n",
    "    data = pd.read_csv(file_path)\n",
    "    dataset = Dataset.from_pandas(data)\n",
    "    return dataset\n",
    "\n",
    "# 사용자 정의 데이터 경로\n",
    "train_file = \"train.csv\"  # 학습 데이터 경로\n",
    "valid_file = \"valid.csv\"  # 검증 데이터 경로\n",
    "\n",
    "dataset = DatasetDict({\n",
    "    \"train\": prepare_dataset(train_file),\n",
    "    \"validation\": prepare_dataset(valid_file)\n",
    "})\n",
    "\n",
    "# 2. 토크나이저 및 모델 로드\n",
    "tokenizer = T5Tokenizer.from_pretrained(\"t5-small\")\n",
    "model = T5ForConditionalGeneration.from_pretrained(\"t5-small\")\n",
    "\n",
    "# 3. 데이터셋 전처리\n",
    "def preprocess_function(examples):\n",
    "    \"\"\"\n",
    "    데이터를 T5 입력 형식으로 변환\n",
    "    \"\"\"\n",
    "    inputs = examples[\"input\"]  # 'input' 열 사용\n",
    "    targets = examples[\"output\"]  # 'output' 열 사용\n",
    "    model_inputs = tokenizer(inputs, max_length=512, truncation=True, padding=\"max_length\")\n",
    "\n",
    "    labels = tokenizer(targets, max_length=512, truncation=True, padding=\"max_length\").input_ids\n",
    "    model_inputs[\"labels\"] = labels\n",
    "\n",
    "    return model_inputs\n",
    "\n",
    "tokenized_datasets = dataset.map(preprocess_function, batched=True)\n",
    "\n",
    "# 데이터셋 셔플링\n",
    "tokenized_datasets[\"train\"] = tokenized_datasets[\"train\"].shuffle(seed=42)\n",
    "\n",
    "# 4. 학습 설정\n",
    "training_args = TrainingArguments(\n",
    "    output_dir=\"./results\",  # 출력 디렉토리\n",
    "    evaluation_strategy=\"epoch\",  # 평가 주기\n",
    "    learning_rate=5e-5,\n",
    "    per_device_train_batch_size=8,\n",
    "    per_device_eval_batch_size=8,\n",
    "    num_train_epochs=3,\n",
    "    weight_decay=0.01,\n",
    "    save_total_limit=2,  # 체크포인트 제한\n",
    "    save_strategy=\"epoch\",\n",
    "    logging_dir=\"./logs\",  # 로깅 디렉토리\n",
    "    logging_steps=10,\n",
    "    load_best_model_at_end=True,\n",
    "    metric_for_best_model=\"loss\",  # 검증 기준\n",
    ")\n",
    "\n",
    "# 5. 트레이너 초기화\n",
    "trainer = Trainer(\n",
    "    model=model,\n",
    "    args=training_args,\n",
    "    train_dataset=tokenized_datasets[\"train\"],\n",
    "    eval_dataset=tokenized_datasets[\"validation\"],\n",
    ")\n",
    "\n",
    "# 6. 학습 시작\n",
    "trainer.train()\n",
    "\n",
    "# 7. 모델 저장\n",
    "trainer.save_model(\"./t5-custom-model\")\n",
    "tokenizer.save_pretrained(\"./t5-custom-model\")\n"
   ]
  }
 ],
 "metadata": {
  "kernelspec": {
   "display_name": "vcnlp",
   "language": "python",
   "name": "python3"
  },
  "language_info": {
   "codemirror_mode": {
    "name": "ipython",
    "version": 3
   },
   "file_extension": ".py",
   "mimetype": "text/x-python",
   "name": "python",
   "nbconvert_exporter": "python",
   "pygments_lexer": "ipython3",
   "version": "3.10.15"
  }
 },
 "nbformat": 4,
 "nbformat_minor": 2
}
